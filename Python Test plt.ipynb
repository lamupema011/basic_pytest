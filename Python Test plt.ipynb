{
 "cells": [
  {
   "cell_type": "raw",
   "metadata": {},
   "source": [
    "Q:1\n",
    "\n",
    "What does ~~~~~~5 evaluate to?\n",
    "\n",
    "a) +5\n",
    "b) -11\n",
    "c) +11\n",
    "d) -5"
   ]
  },
  {
   "cell_type": "code",
   "execution_count": null,
   "metadata": {},
   "outputs": [],
   "source": [
    "5"
   ]
  },
  {
   "cell_type": "raw",
   "metadata": {},
   "source": [
    "Q:2\n",
    "\n",
    "What is the result of cmp(3, 1)?\n",
    "\n",
    "a) 1\n",
    "b) 0\n",
    "c) True\n",
    "d) False"
   ]
  },
  {
   "cell_type": "code",
   "execution_count": null,
   "metadata": {},
   "outputs": [],
   "source": [
    "0"
   ]
  },
  {
   "cell_type": "raw",
   "metadata": {},
   "source": [
    "Q:3\n",
    "\n",
    "Which of these about a set is not true?\n",
    "\n",
    "a) Mutable data type\n",
    "b) Allows duplicate values\n",
    "c) Data type with unordered values\n",
    "d) Immutable data type"
   ]
  },
  {
   "cell_type": "markdown",
   "metadata": {},
   "source": [
    "b)"
   ]
  },
  {
   "cell_type": "raw",
   "metadata": {},
   "source": [
    "Q : 4\n",
    "\n",
    "Create a null vector(list) of size 10 but the fifth value which is 1 ?"
   ]
  },
  {
   "cell_type": "code",
   "execution_count": 1,
   "metadata": {},
   "outputs": [
    {
     "name": "stdout",
     "output_type": "stream",
     "text": [
      "[0, 0, 0, 0, 1, 0, 0, 0, 0, 0]\n"
     ]
    }
   ],
   "source": [
    "a=[]\n",
    "for i in range(1,11):\n",
    "    if i==5:\n",
    "        a.append(1)\n",
    "    else:\n",
    "        a.append(0)\n",
    "print(a)"
   ]
  },
  {
   "cell_type": "raw",
   "metadata": {},
   "source": [
    "Q : 5\n",
    "\n",
    "Create a vector(list) with values ranging from 10 to 49 ?"
   ]
  },
  {
   "cell_type": "code",
   "execution_count": 2,
   "metadata": {},
   "outputs": [
    {
     "name": "stdout",
     "output_type": "stream",
     "text": [
      "[10, 11, 12, 13, 14, 15, 16, 17, 18, 19, 20, 21, 22, 23, 24, 25, 26, 27, 28, 29, 30, 31, 32, 33, 34, 35, 36, 37, 38, 39, 40, 41, 42, 43, 44, 45, 46, 47, 48, 49]\n"
     ]
    }
   ],
   "source": [
    "a=[*range(10,50,1)]\n",
    "print(a)"
   ]
  },
  {
   "cell_type": "raw",
   "metadata": {},
   "source": [
    "Q : 6\n",
    "    \n",
    "Reverse a vector(list)  (first element becomes last) ? "
   ]
  },
  {
   "cell_type": "code",
   "execution_count": 3,
   "metadata": {},
   "outputs": [
    {
     "data": {
      "text/plain": [
       "[4, 3, 2, 1]"
      ]
     },
     "execution_count": 3,
     "metadata": {},
     "output_type": "execute_result"
    }
   ],
   "source": [
    "a=[1,2,3,4]\n",
    "a[::-1]"
   ]
  },
  {
   "cell_type": "raw",
   "metadata": {},
   "source": [
    "Q : 7\n",
    "    \n",
    "Create a 3x3 matrix with values ranging from 0 to 8  ?   "
   ]
  },
  {
   "cell_type": "code",
   "execution_count": 4,
   "metadata": {},
   "outputs": [
    {
     "name": "stdout",
     "output_type": "stream",
     "text": [
      "[[0 1 2]\n",
      " [3 4 5]\n",
      " [6 7 8]]\n"
     ]
    }
   ],
   "source": [
    "import numpy as np\n",
    "a=np.array([[0,1,2],[3,4,5],[6,7,8]])\n",
    "print(a)"
   ]
  },
  {
   "cell_type": "raw",
   "metadata": {},
   "source": [
    "Q : 8\n",
    "\n",
    "Create a 10x10 array with random values and find the minimum and maximum values ? "
   ]
  },
  {
   "cell_type": "code",
   "execution_count": 6,
   "metadata": {},
   "outputs": [
    {
     "name": "stdout",
     "output_type": "stream",
     "text": [
      "[[3.20225056e-01 1.94363026e-01 5.69851779e-02 7.07364336e-01\n",
      "  5.39102678e-01 3.66164694e-01 9.37177520e-01 5.58093486e-01\n",
      "  4.27615306e-01 2.37199982e-01]\n",
      " [5.85996445e-01 8.43493043e-01 4.25629107e-01 9.38214056e-02\n",
      "  5.14801837e-02 8.03033959e-01 7.01822465e-01 2.74219489e-01\n",
      "  8.88816646e-01 5.61943683e-01]\n",
      " [6.24548012e-01 8.56234943e-01 9.39817376e-01 4.18605981e-01\n",
      "  2.77845517e-02 8.37280400e-01 4.68288737e-01 7.96582889e-01\n",
      "  3.60324679e-01 1.78610646e-02]\n",
      " [8.30495566e-01 4.11816459e-01 1.61194426e-01 8.06501953e-01\n",
      "  6.56458316e-01 2.51966338e-01 1.42949861e-02 1.69771945e-02\n",
      "  1.74161361e-02 9.61517738e-01]\n",
      " [2.30050031e-01 6.67482052e-01 7.11975806e-01 5.52490999e-01\n",
      "  8.00467979e-01 8.46234575e-02 2.04348160e-02 6.12083173e-02\n",
      "  2.08513166e-02 2.66451229e-01]\n",
      " [3.03330993e-01 9.13019999e-01 7.04541602e-01 8.16507571e-01\n",
      "  1.68244105e-02 2.69116766e-01 4.64084407e-01 8.00917136e-05\n",
      "  8.94203175e-01 9.39045140e-01]\n",
      " [2.96894594e-01 7.79571065e-01 7.07802505e-01 5.74173267e-01\n",
      "  1.33873903e-01 1.74287569e-01 9.36806161e-01 7.44507975e-02\n",
      "  1.13360256e-01 3.88175929e-01]\n",
      " [9.33373474e-01 2.02056810e-01 9.23923161e-01 5.65813743e-01\n",
      "  8.67638657e-01 2.24802005e-01 9.73402593e-02 7.83218448e-01\n",
      "  7.40519704e-01 4.17871092e-01]\n",
      " [6.19678954e-01 1.43038558e-01 7.47341789e-01 2.52582048e-01\n",
      "  7.50184983e-01 3.06338931e-01 4.61492541e-01 2.09148948e-01\n",
      "  9.07089758e-01 9.21721205e-01]\n",
      " [3.06529166e-01 3.42149681e-01 6.34456804e-01 4.08638599e-01\n",
      "  1.68937852e-02 7.87660021e-01 4.49422184e-02 1.33148784e-01\n",
      "  5.98303246e-01 7.48262953e-01]]\n"
     ]
    }
   ],
   "source": [
    "import numpy as np\n",
    "a=np.random.random((10,10))\n",
    "print(a)"
   ]
  },
  {
   "cell_type": "code",
   "execution_count": 7,
   "metadata": {},
   "outputs": [
    {
     "data": {
      "text/plain": [
       "0.9615177379789889"
      ]
     },
     "execution_count": 7,
     "metadata": {},
     "output_type": "execute_result"
    }
   ],
   "source": [
    "a.max()"
   ]
  },
  {
   "cell_type": "code",
   "execution_count": 8,
   "metadata": {},
   "outputs": [
    {
     "data": {
      "text/plain": [
       "8.00917136091206e-05"
      ]
     },
     "execution_count": 8,
     "metadata": {},
     "output_type": "execute_result"
    }
   ],
   "source": [
    "a.min()"
   ]
  },
  {
   "cell_type": "raw",
   "metadata": {},
   "source": [
    "Q : 9\n",
    "\n",
    "Reverse the complete string \n",
    "----------------------------\n",
    "\n",
    "a = \"i.love.programming.language.\"\n",
    "\n",
    "sample output = language programming love i \n"
   ]
  },
  {
   "cell_type": "code",
   "execution_count": 4,
   "metadata": {},
   "outputs": [
    {
     "data": {
      "text/plain": [
       "['language', 'programming', 'love', 'i']"
      ]
     },
     "execution_count": 4,
     "metadata": {},
     "output_type": "execute_result"
    }
   ],
   "source": [
    "a= 'i.love.programming.language'\n",
    "b= a.split('.')\n",
    "b[::-1]"
   ]
  },
  {
   "cell_type": "raw",
   "metadata": {},
   "source": [
    "Q : 10\n",
    "\n",
    "task = create an Data Frame that consist values in 6 * 6 manner : index values are ind and columns values are col \n",
    "---------------------------------------------------------------------------------------------------------------------\n",
    "\n",
    "ind=['row 1', 'row 2','row 3', 'row 4','row 5', 'row 6']\n",
    "col=['col 1', 'col 2','col 3', 'col 4', 'col 5', 'col 6']\n",
    "\n",
    "\n"
   ]
  },
  {
   "cell_type": "code",
   "execution_count": 5,
   "metadata": {},
   "outputs": [
    {
     "data": {
      "text/html": [
       "<div>\n",
       "<style scoped>\n",
       "    .dataframe tbody tr th:only-of-type {\n",
       "        vertical-align: middle;\n",
       "    }\n",
       "\n",
       "    .dataframe tbody tr th {\n",
       "        vertical-align: top;\n",
       "    }\n",
       "\n",
       "    .dataframe thead th {\n",
       "        text-align: right;\n",
       "    }\n",
       "</style>\n",
       "<table border=\"1\" class=\"dataframe\">\n",
       "  <thead>\n",
       "    <tr style=\"text-align: right;\">\n",
       "      <th></th>\n",
       "      <th>index</th>\n",
       "      <th>column1</th>\n",
       "      <th>column2</th>\n",
       "      <th>column3</th>\n",
       "      <th>column4</th>\n",
       "      <th>column5</th>\n",
       "    </tr>\n",
       "  </thead>\n",
       "  <tbody>\n",
       "    <tr>\n",
       "      <th>0</th>\n",
       "      <td>row 1</td>\n",
       "      <td>col 1</td>\n",
       "      <td>col 1</td>\n",
       "      <td>col 1</td>\n",
       "      <td>col 1</td>\n",
       "      <td>col 1</td>\n",
       "    </tr>\n",
       "    <tr>\n",
       "      <th>1</th>\n",
       "      <td>row 2</td>\n",
       "      <td>col 2</td>\n",
       "      <td>col 2</td>\n",
       "      <td>col 2</td>\n",
       "      <td>col 2</td>\n",
       "      <td>col 2</td>\n",
       "    </tr>\n",
       "    <tr>\n",
       "      <th>2</th>\n",
       "      <td>row 3</td>\n",
       "      <td>col 3</td>\n",
       "      <td>col 3</td>\n",
       "      <td>col 3</td>\n",
       "      <td>col 3</td>\n",
       "      <td>col 3</td>\n",
       "    </tr>\n",
       "    <tr>\n",
       "      <th>3</th>\n",
       "      <td>row 4</td>\n",
       "      <td>col 4</td>\n",
       "      <td>col 4</td>\n",
       "      <td>col 4</td>\n",
       "      <td>col 4</td>\n",
       "      <td>col 4</td>\n",
       "    </tr>\n",
       "    <tr>\n",
       "      <th>4</th>\n",
       "      <td>row 5</td>\n",
       "      <td>col 5</td>\n",
       "      <td>col 5</td>\n",
       "      <td>col 5</td>\n",
       "      <td>col 5</td>\n",
       "      <td>col 5</td>\n",
       "    </tr>\n",
       "    <tr>\n",
       "      <th>5</th>\n",
       "      <td>row 6</td>\n",
       "      <td>col 6</td>\n",
       "      <td>col 6</td>\n",
       "      <td>col 6</td>\n",
       "      <td>col 6</td>\n",
       "      <td>col 6</td>\n",
       "    </tr>\n",
       "  </tbody>\n",
       "</table>\n",
       "</div>"
      ],
      "text/plain": [
       "   index column1 column2 column3 column4 column5\n",
       "0  row 1   col 1   col 1   col 1   col 1   col 1\n",
       "1  row 2   col 2   col 2   col 2   col 2   col 2\n",
       "2  row 3   col 3   col 3   col 3   col 3   col 3\n",
       "3  row 4   col 4   col 4   col 4   col 4   col 4\n",
       "4  row 5   col 5   col 5   col 5   col 5   col 5\n",
       "5  row 6   col 6   col 6   col 6   col 6   col 6"
      ]
     },
     "execution_count": 5,
     "metadata": {},
     "output_type": "execute_result"
    }
   ],
   "source": [
    "import pandas as pd\n",
    "ind=['row 1', 'row 2','row 3', 'row 4','row 5', 'row 6']\n",
    "col=['col 1', 'col 2','col 3', 'col 4', 'col 5', 'col 6']\n",
    "pd.DataFrame({'index':ind,'column1':col,'column2':col,'column3':col,'column4':col,'column5':col})"
   ]
  },
  {
   "cell_type": "raw",
   "metadata": {},
   "source": [
    "Q : 11\n",
    "\n",
    "Task : Write a Python program to create a function that takes one argument, and that argument will be multiplied with an unknown given number.\n",
    "\n",
    "\n",
    "Sample Output =    \n",
    "Double the number of 15 = 30\n",
    "Triple the number of 15 = 45\n",
    "Quadruple the number of 15 = 60\n",
    "Quintuple the number 15 = 75"
   ]
  },
  {
   "cell_type": "code",
   "execution_count": 6,
   "metadata": {},
   "outputs": [
    {
     "name": "stdout",
     "output_type": "stream",
     "text": [
      "Double the number of= 15 30\n",
      "trible the number of= 15 45\n",
      "quadruple the number of= 15 60\n",
      "quintuple the number of= 15 75\n"
     ]
    }
   ],
   "source": [
    "x=15\n",
    "def mul(x):\n",
    "    return(x)\n",
    "print('Double the number of=',x,mul(x*2))\n",
    "print('trible the number of=',x,mul(x*3))\n",
    "print('quadruple the number of=',x,mul(x*4))\n",
    "print('quintuple the number of=',x,mul(x*5))"
   ]
  },
  {
   "cell_type": "raw",
   "metadata": {},
   "source": [
    "Q : 12\n",
    "\n",
    "Task : Write a Python program to find if a given string starts with a given character using Lambda. Go to the editor\n",
    "Sample Output:\n",
    "True\n",
    "False"
   ]
  },
  {
   "cell_type": "code",
   "execution_count": 7,
   "metadata": {},
   "outputs": [
    {
     "name": "stdout",
     "output_type": "stream",
     "text": [
      "True\n"
     ]
    }
   ],
   "source": [
    "x= lambda s :True if s[0]=='h'  else False\n",
    "print(x('hello'))"
   ]
  },
  {
   "cell_type": "raw",
   "metadata": {},
   "source": [
    "Q : 13\n",
    "\n",
    "Task : Swap two Numbers without using 3rd variables "
   ]
  },
  {
   "cell_type": "code",
   "execution_count": 8,
   "metadata": {},
   "outputs": [
    {
     "name": "stdout",
     "output_type": "stream",
     "text": [
      "before swapping a: 23 b: 45\n",
      "after swapping a: 45 b: 23\n"
     ]
    }
   ],
   "source": [
    "a,b=23,45\n",
    "print(\"before swapping a:\",a,\"b:\",b)\n",
    "a,b=b,a\n",
    "print(\"after swapping a:\",a,\"b:\",b)"
   ]
  },
  {
   "cell_type": "raw",
   "metadata": {},
   "source": [
    "Q : 14 \n",
    "\n",
    "Task : Find whether the given number is palindrome or Not \n"
   ]
  },
  {
   "cell_type": "code",
   "execution_count": 9,
   "metadata": {},
   "outputs": [
    {
     "name": "stdout",
     "output_type": "stream",
     "text": [
      "enter a number:12\n",
      "12  is not a palindrome\n"
     ]
    }
   ],
   "source": [
    "n=int(input(\"enter a number:\"))\n",
    "t=n\n",
    "s=0\n",
    "while n>0:\n",
    "    r=n%10\n",
    "    s=s*10+r\n",
    "    n=n//10\n",
    "if t==s :\n",
    "    print(t,\" is a palindrome\")\n",
    "else:\n",
    "    print(t,\" is not a palindrome\")"
   ]
  },
  {
   "cell_type": "raw",
   "metadata": {},
   "source": [
    "Q : 15\n",
    "\n",
    "Task : Write a Python Programme to Find the smallest Divisor of an Integer\n"
   ]
  },
  {
   "cell_type": "code",
   "execution_count": 11,
   "metadata": {},
   "outputs": [
    {
     "name": "stdout",
     "output_type": "stream",
     "text": [
      "enter a number:15\n"
     ]
    },
    {
     "data": {
      "text/plain": [
       "3"
      ]
     },
     "execution_count": 11,
     "metadata": {},
     "output_type": "execute_result"
    }
   ],
   "source": [
    "n=int(input(\"enter a number:\"))\n",
    "l=[]\n",
    "for i in range(2,n):\n",
    "    if n%i==0:\n",
    "        l.append(i)\n",
    "l[0]"
   ]
  },
  {
   "cell_type": "raw",
   "metadata": {},
   "source": [
    "Q : 16\n",
    "\n",
    "Task : Write a Python Programme to find whether a given number is Prime number or not\n"
   ]
  },
  {
   "cell_type": "code",
   "execution_count": 12,
   "metadata": {},
   "outputs": [
    {
     "name": "stdout",
     "output_type": "stream",
     "text": [
      "enter a number:3\n",
      "3 is a prime number\n"
     ]
    }
   ],
   "source": [
    "num =int(input(\"enter a number:\"))\n",
    "if num > 1:\n",
    "    for i in range(2,num):\n",
    "        if (num % i) == 0:\n",
    "            print(num,\"is not a prime number\")\n",
    "            break\n",
    "        else:\n",
    "            print(num,\"is a prime number\")\n",
    "            break\n",
    "else:\n",
    "    print(num,\"is not a prime number\")"
   ]
  },
  {
   "cell_type": "raw",
   "metadata": {},
   "source": [
    "Q : 17 \n",
    "\n",
    "Task : Write a Python Programme to calculate the number of Digits and Letters in a string "
   ]
  },
  {
   "cell_type": "code",
   "execution_count": 13,
   "metadata": {},
   "outputs": [
    {
     "name": "stdout",
     "output_type": "stream",
     "text": [
      "['1', '2', '3', '4', '5']\n",
      "['a', 'b', 'c', 'd', 'e']\n"
     ]
    }
   ],
   "source": [
    "s='1a2b3c4d5e'\n",
    "d=[]\n",
    "a=[]\n",
    "for i in s:\n",
    "    if i.isdigit()==True:\n",
    "        d.append(i)\n",
    "    else:\n",
    "        a.append(i)\n",
    "print(d)\n",
    "print(a)"
   ]
  },
  {
   "cell_type": "raw",
   "metadata": {},
   "source": [
    "Q : 18\n",
    "\n",
    "Task :  write a python programme to prove whether the given number is perfect number or not  "
   ]
  },
  {
   "cell_type": "code",
   "execution_count": 14,
   "metadata": {},
   "outputs": [
    {
     "name": "stdout",
     "output_type": "stream",
     "text": [
      "enter a number:6\n",
      "6  is a perfect number\n"
     ]
    }
   ],
   "source": [
    "n=int(input(\"enter a number:\"))\n",
    "t=n\n",
    "s=0\n",
    "for i in range(1,n):\n",
    "    if n%i==0:\n",
    "        s=s+i\n",
    "if t==s :\n",
    "    print(t,\" is a perfect number\")\n",
    "else:\n",
    "    print(t,\" is not a perfect number\")"
   ]
  },
  {
   "cell_type": "raw",
   "metadata": {},
   "source": [
    "Q : 19\n",
    "\n",
    "Task: write a python programme to prove whether the given number is Amstrong number or not "
   ]
  },
  {
   "cell_type": "code",
   "execution_count": 16,
   "metadata": {},
   "outputs": [
    {
     "name": "stdout",
     "output_type": "stream",
     "text": [
      "enter a number:444\n",
      "444  is not a armstrong number\n"
     ]
    }
   ],
   "source": [
    "n=int(input(\"enter a number:\"))\n",
    "t=n\n",
    "s=0\n",
    "while n>0:\n",
    "    r=n%10\n",
    "    s=s+(r**3)\n",
    "    n=n//10\n",
    "if t==s :\n",
    "    print(t,\" is a armstrong number\")\n",
    "else:\n",
    "    print(t,\" is not a armstrong number\")"
   ]
  },
  {
   "cell_type": "raw",
   "metadata": {},
   "source": [
    "Q : 20\n",
    "\n",
    "Task : \n",
    "write a python programme to prove whether the given number is strong  number or not \n"
   ]
  },
  {
   "cell_type": "code",
   "execution_count": 17,
   "metadata": {},
   "outputs": [
    {
     "name": "stdout",
     "output_type": "stream",
     "text": [
      "enter a number:333\n",
      "333  is not a strong number\n"
     ]
    }
   ],
   "source": [
    "n=int(input(\"enter a number:\"))\n",
    "t=n\n",
    "s=0\n",
    "while n>0:\n",
    "    fa=1\n",
    "    r=n%10\n",
    "    for i in range(1,r+1):\n",
    "        fa=fa*i\n",
    "    s=s+fa\n",
    "    n=n//10\n",
    "if t==s :\n",
    "    print(t,\" is a strong number\")\n",
    "else:\n",
    "    print(t,\" is not a strong number\")"
   ]
  },
  {
   "cell_type": "raw",
   "metadata": {},
   "source": [
    "Q : 21\n",
    "\n",
    "Task :\n",
    "\n",
    "Given an array of Integers , find the sum of its elements \n"
   ]
  },
  {
   "cell_type": "code",
   "execution_count": 18,
   "metadata": {},
   "outputs": [
    {
     "name": "stdout",
     "output_type": "stream",
     "text": [
      "[0 1 2 3 4 5 6 7 8 9]\n",
      "sum: 45\n"
     ]
    }
   ],
   "source": [
    "import numpy as np\n",
    "a=np.arange(10)\n",
    "s=0\n",
    "for i in a:\n",
    "    s=s+i\n",
    "print(a)\n",
    "print(\"sum:\",s)"
   ]
  },
  {
   "cell_type": "raw",
   "metadata": {},
   "source": [
    "Q : 22\n",
    "\n",
    "Task :\n",
    "\n",
    "Write a Python Programme to find the values Divisible by 5 and 3 from 15 to 50 "
   ]
  },
  {
   "cell_type": "code",
   "execution_count": 19,
   "metadata": {},
   "outputs": [
    {
     "name": "stdout",
     "output_type": "stream",
     "text": [
      "15\n",
      "30\n",
      "45\n"
     ]
    }
   ],
   "source": [
    "for i in range(15,50):\n",
    "    if i%5==0 and i%3==0:\n",
    "        print(i)"
   ]
  },
  {
   "cell_type": "raw",
   "metadata": {},
   "source": [
    "Q : 23\n",
    "\n",
    "Task :\n",
    "\n",
    "Print 2 Table from 2 * 1 = 2 till 2 * 10 = 20 "
   ]
  },
  {
   "cell_type": "code",
   "execution_count": 20,
   "metadata": {},
   "outputs": [
    {
     "name": "stdout",
     "output_type": "stream",
     "text": [
      "2 * 1 = 2\n",
      "2 * 2 = 4\n",
      "2 * 3 = 6\n",
      "2 * 4 = 8\n",
      "2 * 5 = 10\n",
      "2 * 6 = 12\n",
      "2 * 7 = 14\n",
      "2 * 8 = 16\n",
      "2 * 9 = 18\n",
      "2 * 10 = 20\n"
     ]
    }
   ],
   "source": [
    "x=2\n",
    "a=range(1,11)\n",
    "for i in a:\n",
    "    print(x,'*',i,'=',i+i)"
   ]
  },
  {
   "cell_type": "raw",
   "metadata": {},
   "source": [
    "Q : 24\n",
    "\n",
    "Task : \n",
    "\n",
    "print all values from 1 to 101 and skip an element 56 from the list "
   ]
  },
  {
   "cell_type": "code",
   "execution_count": 21,
   "metadata": {},
   "outputs": [
    {
     "name": "stdout",
     "output_type": "stream",
     "text": [
      "1\n",
      "2\n",
      "3\n",
      "4\n",
      "5\n",
      "6\n",
      "7\n",
      "8\n",
      "9\n",
      "10\n",
      "11\n",
      "12\n",
      "13\n",
      "14\n",
      "15\n",
      "16\n",
      "17\n",
      "18\n",
      "19\n",
      "20\n",
      "21\n",
      "22\n",
      "23\n",
      "24\n",
      "25\n",
      "26\n",
      "27\n",
      "28\n",
      "29\n",
      "30\n",
      "31\n",
      "32\n",
      "33\n",
      "34\n",
      "35\n",
      "36\n",
      "37\n",
      "38\n",
      "39\n",
      "40\n",
      "41\n",
      "42\n",
      "43\n",
      "44\n",
      "45\n",
      "46\n",
      "47\n",
      "48\n",
      "49\n",
      "50\n",
      "51\n",
      "52\n",
      "53\n",
      "54\n",
      "55\n",
      "57\n",
      "58\n",
      "59\n",
      "60\n",
      "61\n",
      "62\n",
      "63\n",
      "64\n",
      "65\n",
      "66\n",
      "67\n",
      "68\n",
      "69\n",
      "70\n",
      "71\n",
      "72\n",
      "73\n",
      "74\n",
      "75\n",
      "76\n",
      "77\n",
      "78\n",
      "79\n",
      "80\n",
      "81\n",
      "82\n",
      "83\n",
      "84\n",
      "85\n",
      "86\n",
      "87\n",
      "88\n",
      "89\n",
      "90\n",
      "91\n",
      "92\n",
      "93\n",
      "94\n",
      "95\n",
      "96\n",
      "97\n",
      "98\n",
      "99\n",
      "100\n"
     ]
    }
   ],
   "source": [
    "for i in range(1,101):\n",
    "    if i==56:\n",
    "        continue\n",
    "    print(i)"
   ]
  },
  {
   "cell_type": "raw",
   "metadata": {},
   "source": [
    "Q : 25\n",
    "\n",
    "\n",
    "Task :\n",
    "\n",
    "Given an integer  n , perform the following conditional actions:\n",
    "\n",
    "If n is odd, print Weird\n",
    "If n is even and in the inclusive range of 2 to 5 , print Not Weird\n",
    "If n is even and in the inclusive range of 6 to 20 , print Weird\n",
    "If n is even and greater than 20 , print Not Weird\n",
    "\n",
    "\n",
    "\n",
    "Input Format\n",
    "-----------------\n",
    "A single line containing a positive integer, n.\n",
    "\n",
    "Constraints\n",
    "-------------\n",
    "\n",
    "1<=n<=100\n",
    "\n",
    "Output Format\n",
    "----------------\n",
    "\n",
    "Print Weird if the number is weird. Otherwise, print Not Weird.\n",
    "\n",
    "Sample Input 0\n",
    "----------------\n",
    "\n",
    "3\n",
    "\n",
    "Sample Output 0\n",
    "-----------------\n",
    "\n",
    "Weird\n",
    "\n",
    "\n",
    "Explanation 0\n",
    "---------------------\n",
    "\n",
    "n=3  is odd and odd numbers are weird, so print Weird.\n",
    "\n",
    "Sample Input 1\n",
    "-------------------------\n",
    "24\n",
    "\n",
    "Sample Output 1\n",
    "-------------------------\n",
    "\n",
    "Not Weird\n",
    "\n",
    "\n",
    "Explanation 1\n",
    "---------------------------\n",
    "\n",
    "n > 20  and n  is even, so it is not weird.\n"
   ]
  },
  {
   "cell_type": "code",
   "execution_count": 22,
   "metadata": {},
   "outputs": [
    {
     "name": "stdout",
     "output_type": "stream",
     "text": [
      "enter a number:78\n",
      "its  not weird\n",
      "its greater than 20\n"
     ]
    }
   ],
   "source": [
    "n=int(input(\"enter a number:\"))\n",
    "if n%2!=0:\n",
    "    print(\"its weird\")\n",
    "    print(\"its odd\")\n",
    "elif 2<=n<=5:\n",
    "    print(\"its  not weird\")\n",
    "    print(\"lies between 2 to 5\")\n",
    "elif 6<=n<=20:\n",
    "    print(\"its  weird\")\n",
    "    print(\"lies between 6 to 20\")\n",
    "else:\n",
    "    print(\"its  not weird\")\n",
    "    print(\"its greater than 20\")"
   ]
  },
  {
   "cell_type": "code",
   "execution_count": null,
   "metadata": {},
   "outputs": [],
   "source": []
  }
 ],
 "metadata": {
  "kernelspec": {
   "display_name": "Python 3",
   "language": "python",
   "name": "python3"
  },
  "language_info": {
   "codemirror_mode": {
    "name": "ipython",
    "version": 3
   },
   "file_extension": ".py",
   "mimetype": "text/x-python",
   "name": "python",
   "nbconvert_exporter": "python",
   "pygments_lexer": "ipython3",
   "version": "3.8.5"
  }
 },
 "nbformat": 4,
 "nbformat_minor": 4
}
